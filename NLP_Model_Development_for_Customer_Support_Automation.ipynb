{
  "nbformat": 4,
  "nbformat_minor": 0,
  "metadata": {
    "colab": {
      "provenance": [],
      "gpuType": "T4"
    },
    "kernelspec": {
      "name": "python3",
      "display_name": "Python 3"
    },
    "language_info": {
      "name": "python"
    },
    "accelerator": "GPU"
  },
  "cells": [
    {
      "cell_type": "markdown",
      "source": [
        "# **Automated Query Response System**\n",
        "This project is a **simplified** version of my Summer Internship experience. The data I will be using is very limited and is randomly generated. The classes might be imbalanced and the overall quality might not be the best. It is created to help me reflect on the experience and solidify the key concepts used.\n",
        "\n",
        "By Zichen Liu"
      ],
      "metadata": {
        "id": "yAhB3ZGAOY8Z"
      }
    },
    {
      "cell_type": "markdown",
      "source": [
        "## Step 1: Create Dataset\n",
        "Creating my own pre-train dataset of common queries, defining their intent and entity."
      ],
      "metadata": {
        "id": "poijGcJrQdMs"
      }
    },
    {
      "cell_type": "code",
      "execution_count": null,
      "metadata": {
        "colab": {
          "base_uri": "https://localhost:8080/"
        },
        "id": "DOtI2elpOE6c",
        "outputId": "ad405ea7-9213-4197-b183-b166d7ec9f58"
      },
      "outputs": [
        {
          "output_type": "stream",
          "name": "stdout",
          "text": [
            "New Intent Distribution: Counter({'Technical_Support': 16, 'Account_Management': 10, 'Customer_Service': 10, 'Product_Inquiry': 8, 'Subscription_Update': 2, 'Error_Code_Explanation': 1, 'Data_Recovery': 1, 'Data_Transfer': 1})\n"
          ]
        }
      ],
      "source": [
        "data = {\n",
        "    \"queries\": [\n",
        "        \"How do I reset my password?\",\n",
        "        \"Where can I download the latest firmware?\",\n",
        "        \"My software is crashing when I try to open it.\",\n",
        "        \"Can I upgrade my subscription plan?\",\n",
        "        \"I am getting an error code 404.\",\n",
        "        \"How can I change my account email?\",\n",
        "        \"What are the specifications of the latest model?\",\n",
        "        \"The app keeps freezing. What should I do?\",\n",
        "        \"How do I connect my device to Wi-Fi?\",\n",
        "        \"How do I enable two-factor authentication?\",\n",
        "        \"My battery is draining too quickly.\",\n",
        "        \"Is there a way to recover deleted files?\",\n",
        "        \"How do I check my warranty status?\",\n",
        "        \"Can I schedule a service appointment online?\",\n",
        "        \"I want to cancel my order.\",\n",
        "        \"What payment methods do you accept?\",\n",
        "        \"How can I return a product?\",\n",
        "        \"Where is the nearest service center?\",\n",
        "        \"My order is delayed, what should I do?\",\n",
        "        \"How do I activate my product license?\",\n",
        "        \"Can I transfer my data to a new device?\",\n",
        "        \"The touchscreen is unresponsive.\",\n",
        "        \"How do I update my profile information?\",\n",
        "        \"Can I get a refund for my subscription?\",\n",
        "        \"How do I track my order?\",\n",
        "        \"What is the warranty on this product?\",\n",
        "        \"The screen is flickering. What should I do?\",\n",
        "        \"Can I download previous firmware versions?\",\n",
        "        \"How do I set up parental controls?\",\n",
        "        \"My internet connection is slow.\",\n",
        "        \"Can I upgrade my hardware?\",\n",
        "        \"How do I change my billing information?\",\n",
        "        \"I received a damaged product, what should I do?\",\n",
        "        \"How do I clear the app cache?\",\n",
        "        \"Is there an extended warranty available?\",\n",
        "        \"How do I disable two-factor authentication?\",\n",
        "        \"How can I delete my account?\",\n",
        "        \"My device is overheating. Help!\",\n",
        "        \"Where can I find the user manual?\",\n",
        "        \"How do I reinstall the operating system?\",\n",
        "        \"Can I exchange my product for a different model?\",\n",
        "        \"How do I recover my username?\",\n",
        "        \"How can I reset my security questions?\",\n",
        "        \"Can I get technical support over the phone?\",\n",
        "        \"How do I disable location services?\",\n",
        "        \"The app is not updating automatically.\",\n",
        "        \"Can I postpone my subscription renewal?\",\n",
        "        \"How do I check for software updates?\",\n",
        "        \"What is the return policy on accessories?\"\n",
        "    ],\n",
        "\n",
        "    \"intent\": [\n",
        "        \"Account_Update\",\n",
        "        \"Firmware_Download\",\n",
        "        \"Technical_Issue\",\n",
        "        \"Subscription_Update\",\n",
        "        \"Error_Code_Explanation\",\n",
        "        \"Account_Update\",\n",
        "        \"Product_Inquiry\",\n",
        "        \"Technical_Issue\",\n",
        "        \"Technical_Support\",\n",
        "        \"Account_Security\",\n",
        "        \"Technical_Issue\",\n",
        "        \"Data_Recovery\",\n",
        "        \"Warranty_Inquiry\",\n",
        "        \"Service_Scheduling\",\n",
        "        \"Order_Management\",\n",
        "        \"Payment_Inquiry\",\n",
        "        \"Return_Process\",\n",
        "        \"Location_Inquiry\",\n",
        "        \"Order_Management\",\n",
        "        \"Product_Activation\",\n",
        "        \"Data_Transfer\",\n",
        "        \"Technical_Issue\",\n",
        "        \"Account_Update\",\n",
        "        \"Refund_Request\",\n",
        "        \"Order_Tracking\",\n",
        "        \"Warranty_Inquiry\",\n",
        "        \"Technical_Issue\",\n",
        "        \"Firmware_Download\",\n",
        "        \"Parental_Control\",\n",
        "        \"Technical_Issue\",\n",
        "        \"Hardware_Upgrade\",\n",
        "        \"Billing_Inquiry\",\n",
        "        \"Return_Process\",\n",
        "        \"Technical_Support\",\n",
        "        \"Warranty_Inquiry\",\n",
        "        \"Account_Security\",\n",
        "        \"Account_Deletion\",\n",
        "        \"Technical_Issue\",\n",
        "        \"Product_Inquiry\",\n",
        "        \"Operating_System\",\n",
        "        \"Product_Exchange\",\n",
        "        \"Account_Update\",\n",
        "        \"Account_Security\",\n",
        "        \"Technical_Support\",\n",
        "        \"Account_Security\",\n",
        "        \"Technical_Issue\",\n",
        "        \"Subscription_Update\",\n",
        "        \"Software_Update\",\n",
        "        \"Return_Process\"\n",
        "    ],\n",
        "\n",
        "    \"entities\": [\n",
        "        {\"Action\": \"reset\", \"Component\": \"password\"},\n",
        "        {\"Action\": \"download\", \"Component\": \"firmware\"},\n",
        "        {\"Component\": \"software\", \"Issue\": \"crashing\"},\n",
        "        {\"Action\": \"upgrade\", \"Component\": \"subscription plan\"},\n",
        "        {\"Issue\": \"error code 404\"},\n",
        "        {\"Action\": \"change\", \"Component\": \"account email\"},\n",
        "        {\"Action\": \"specifications\", \"Component\": \"latest model\"},\n",
        "        {\"Component\": \"app\", \"Issue\": \"freezing\"},\n",
        "        {\"Action\": \"connect\", \"Component\": \"Wi-Fi\"},\n",
        "        {\"Action\": \"enable\", \"Component\": \"two-factor authentication\"},\n",
        "        {\"Component\": \"battery\", \"Issue\": \"draining too quickly\"},\n",
        "        {\"Action\": \"recover\", \"Component\": \"deleted files\"},\n",
        "        {\"Action\": \"check\", \"Component\": \"warranty status\"},\n",
        "        {\"Action\": \"schedule\", \"Component\": \"service appointment\"},\n",
        "        {\"Action\": \"cancel\", \"Component\": \"order\"},\n",
        "        {\"Action\": \"accept\", \"Component\": \"payment methods\"},\n",
        "        {\"Action\": \"return\", \"Component\": \"product\"},\n",
        "        {\"Action\": \"find\", \"Component\": \"nearest service center\"},\n",
        "        {\"Action\": \"delayed\", \"Component\": \"order\"},\n",
        "        {\"Action\": \"activate\", \"Component\": \"product license\"},\n",
        "        {\"Action\": \"transfer\", \"Component\": \"data to a new device\"},\n",
        "        {\"Component\": \"touchscreen\", \"Issue\": \"unresponsive\"},\n",
        "        {\"Action\": \"update\", \"Component\": \"profile information\"},\n",
        "        {\"Action\": \"get\", \"Component\": \"refund for subscription\"},\n",
        "        {\"Action\": \"track\", \"Component\": \"order\"},\n",
        "        {\"Component\": \"product\", \"Issue\": \"warranty\"},\n",
        "        {\"Component\": \"screen\", \"Issue\": \"flickering\"},\n",
        "        {\"Action\": \"download\", \"Component\": \"previous firmware versions\"},\n",
        "        {\"Action\": \"set up\", \"Component\": \"parental controls\"},\n",
        "        {\"Component\": \"internet\", \"Issue\": \"connection slow\"},\n",
        "        {\"Action\": \"upgrade\", \"Component\": \"hardware\"},\n",
        "        {\"Action\": \"change\", \"Component\": \"billing information\"},\n",
        "        {\"Action\": \"received\", \"Component\": \"damaged product\"},\n",
        "        {\"Action\": \"clear\", \"Component\": \"app cache\"},\n",
        "        {\"Component\": \"warranty\", \"Issue\": \"extended\"},\n",
        "        {\"Action\": \"disable\", \"Component\": \"two-factor authentication\"},\n",
        "        {\"Action\": \"delete\", \"Component\": \"account\"},\n",
        "        {\"Component\": \"device\", \"Issue\": \"overheating\"},\n",
        "        {\"Action\": \"find\", \"Component\": \"user manual\"},\n",
        "        {\"Action\": \"reinstall\", \"Component\": \"operating system\"},\n",
        "        {\"Action\": \"exchange\", \"Component\": \"product for different model\"},\n",
        "        {\"Action\": \"recover\", \"Component\": \"username\"},\n",
        "        {\"Action\": \"reset\", \"Component\": \"security questions\"},\n",
        "        {\"Action\": \"get\", \"Component\": \"technical support over phone\"},\n",
        "        {\"Action\": \"disable\", \"Component\": \"location services\"},\n",
        "        {\"Component\": \"app\", \"Issue\": \"not updating automatically\"},\n",
        "        {\"Action\": \"postpone\", \"Component\": \"subscription renewal\"},\n",
        "        {\"Action\": \"check\", \"Component\": \"software updates\"},\n",
        "        {\"Component\": \"return policy\", \"Issue\": \"accessories\"}\n",
        "    ]\n",
        "}\n",
        "\n",
        "# Original intents\n",
        "original_intents = data['intent']\n",
        "\n",
        "# Group the intents into broader categories\n",
        "grouped_intents = [\n",
        "    \"Account_Management\" if intent in [\"Account_Update\", \"Account_Security\", \"Billing_Inquiry\", \"Account_Deletion\"] else\n",
        "    \"Technical_Support\" if intent in [\"Technical_Issue\", \"Firmware_Download\", \"Operating_System\", \"Hardware_Upgrade\", \"Technical_Support\", \"Software_Update\"] else\n",
        "    \"Customer_Service\" if intent in [\"Order_Management\", \"Return_Process\", \"Refund_Request\", \"Order_Tracking\", \"Service_Scheduling\", \"Payment_Inquiry\", \"Location_Inquiry\"] else\n",
        "    \"Product_Inquiry\" if intent in [\"Product_Activation\", \"Product_Exchange\", \"Warranty_Inquiry\", \"Product_Inquiry\", \"Parental_Control\"] else\n",
        "    intent\n",
        "    for intent in original_intents\n",
        "]\n",
        "\n",
        "# Update the data with the new grouped intents\n",
        "data['intent'] = grouped_intents\n",
        "\n",
        "# Check the new distribution of intents\n",
        "from collections import Counter\n",
        "print(\"New Intent Distribution:\", Counter(data['intent']))"
      ]
    },
    {
      "cell_type": "markdown",
      "source": [
        "## Step 2: Preprocessing\n",
        "Preprocessing the queries using NLTK by **lemmatization** and getting rid of irrelvant information\n"
      ],
      "metadata": {
        "id": "9vGy9WYl3aax"
      }
    },
    {
      "cell_type": "code",
      "source": [
        "import re\n",
        "import nltk\n",
        "from nltk.stem import WordNetLemmatizer\n",
        "from nltk.corpus import stopwords\n",
        "nltk.download('punkt')\n",
        "nltk.download('stopwords')\n",
        "nltk.download('wordnet')\n",
        "nltk.download('stopwords')\n",
        "nltk.download('wordnet')\n",
        "\n",
        "# Initialize the lemmatizer\n",
        "lemmatizer = WordNetLemmatizer()\n",
        "\n",
        "# Stopwords do not need to be removed here because later on Vectorizer will take care of it\n",
        "\n",
        "# Lowercasing the queries\n",
        "queries = [query.lower() for query in data['queries']]\n",
        "\n",
        "# Removing punctuation and special characters\n",
        "queries = [re.sub(r'[^\\w\\s]', '', query) for query in queries]\n",
        "\n",
        "# Tokenization and Lemmatization\n",
        "processed_queries = []\n",
        "for query in queries:\n",
        "  tokens = nltk.word_tokenize(query)  # Tokenize the query\n",
        "  lemmatized_tokens = [lemmatizer.lemmatize(token) for token in tokens]  # Lemmatize each token\n",
        "  processed_query = ' '.join(lemmatized_tokens)  # Rejoin tokens into a single string\n",
        "  processed_queries.append(processed_query)\n",
        "\n",
        "# Output the processed queries (for verification)\n",
        "print(\"Processed Queries:\")\n",
        "for q in processed_queries:\n",
        "    print(q)"
      ],
      "metadata": {
        "colab": {
          "base_uri": "https://localhost:8080/"
        },
        "id": "-f7r5NzT33GV",
        "outputId": "da088ab6-1566-4442-b4c4-1d6f578b46bc"
      },
      "execution_count": null,
      "outputs": [
        {
          "output_type": "stream",
          "name": "stderr",
          "text": [
            "[nltk_data] Downloading package punkt to /root/nltk_data...\n",
            "[nltk_data]   Unzipping tokenizers/punkt.zip.\n",
            "[nltk_data] Downloading package stopwords to /root/nltk_data...\n",
            "[nltk_data]   Unzipping corpora/stopwords.zip.\n",
            "[nltk_data] Downloading package wordnet to /root/nltk_data...\n",
            "[nltk_data] Downloading package stopwords to /root/nltk_data...\n",
            "[nltk_data]   Package stopwords is already up-to-date!\n",
            "[nltk_data] Downloading package wordnet to /root/nltk_data...\n",
            "[nltk_data]   Package wordnet is already up-to-date!\n"
          ]
        },
        {
          "output_type": "stream",
          "name": "stdout",
          "text": [
            "Processed Queries:\n",
            "how do i reset my password\n",
            "where can i download the latest firmware\n",
            "my software is crashing when i try to open it\n",
            "can i upgrade my subscription plan\n",
            "i am getting an error code 404\n",
            "how can i change my account email\n",
            "what are the specification of the latest model\n",
            "the app keep freezing what should i do\n",
            "how do i connect my device to wifi\n",
            "how do i enable twofactor authentication\n",
            "my battery is draining too quickly\n",
            "is there a way to recover deleted file\n",
            "how do i check my warranty status\n",
            "can i schedule a service appointment online\n",
            "i want to cancel my order\n",
            "what payment method do you accept\n",
            "how can i return a product\n",
            "where is the nearest service center\n",
            "my order is delayed what should i do\n",
            "how do i activate my product license\n",
            "can i transfer my data to a new device\n",
            "the touchscreen is unresponsive\n",
            "how do i update my profile information\n",
            "can i get a refund for my subscription\n",
            "how do i track my order\n",
            "what is the warranty on this product\n",
            "the screen is flickering what should i do\n",
            "can i download previous firmware version\n",
            "how do i set up parental control\n",
            "my internet connection is slow\n",
            "can i upgrade my hardware\n",
            "how do i change my billing information\n",
            "i received a damaged product what should i do\n",
            "how do i clear the app cache\n",
            "is there an extended warranty available\n",
            "how do i disable twofactor authentication\n",
            "how can i delete my account\n",
            "my device is overheating help\n",
            "where can i find the user manual\n",
            "how do i reinstall the operating system\n",
            "can i exchange my product for a different model\n",
            "how do i recover my username\n",
            "how can i reset my security question\n",
            "can i get technical support over the phone\n",
            "how do i disable location service\n",
            "the app is not updating automatically\n",
            "can i postpone my subscription renewal\n",
            "how do i check for software update\n",
            "what is the return policy on accessory\n"
          ]
        }
      ]
    },
    {
      "cell_type": "markdown",
      "source": [
        "## Step 3: Vectorization\n",
        "Using **TF-IDF Vectorizer** to convert each word to vectors in order to be processed and weighed by the **Support Vector Machine (SVM)**.\n"
      ],
      "metadata": {
        "id": "77v-lwQTXVNA"
      }
    },
    {
      "cell_type": "code",
      "source": [
        "# Import the TfidfVectorizer\n",
        "from sklearn.feature_extraction.text import TfidfVectorizer\n",
        "\n",
        "# Initialize the TF-IDF vectorizer\n",
        "vectorizer = TfidfVectorizer(stop_words='english')\n",
        "\n",
        "# Fit and transform the processed queries\n",
        "X = vectorizer.fit_transform(processed_queries)\n",
        "\n",
        "# Prepare the intent labels (y) from the dataset\n",
        "y = data['intent']\n",
        "\n",
        "# Output the shape of X and y\n",
        "print(\"Shape of X:\", X.shape)\n",
        "print(\"Shape of y:\", len(y))"
      ],
      "metadata": {
        "colab": {
          "base_uri": "https://localhost:8080/"
        },
        "id": "hg0oSXm7YHww",
        "outputId": "496e0ace-6094-4747-ab87-8f81d4672f76"
      },
      "execution_count": null,
      "outputs": [
        {
          "output_type": "stream",
          "name": "stdout",
          "text": [
            "Shape of X: (49, 107)\n",
            "Shape of y: 49\n"
          ]
        }
      ]
    },
    {
      "cell_type": "markdown",
      "source": [
        "## Step 4: Splitting Data into Training and Testing\n",
        "Using **train_test_split** to split data"
      ],
      "metadata": {
        "id": "gPTzLz8NZ-dy"
      }
    },
    {
      "cell_type": "code",
      "source": [
        "# import sklearn\n",
        "from sklearn.model_selection import train_test_split\n",
        "\n",
        "# Split the data into training and testing sets\n",
        "X_train, X_test, y_train, y_test = train_test_split(X, y, test_size=0.2, random_state=1)"
      ],
      "metadata": {
        "id": "QGO0jSbHaJvV"
      },
      "execution_count": null,
      "outputs": []
    },
    {
      "cell_type": "markdown",
      "source": [
        "## Step 5: Training the Classifier\n",
        "Training SVM classifier on the training set"
      ],
      "metadata": {
        "id": "X2uhJ63Ge4vZ"
      }
    },
    {
      "cell_type": "code",
      "source": [
        "# Import SVM\n",
        "from sklearn.svm import SVC\n",
        "\n",
        "# Initialize the SVM classifier\n",
        "classifier = SVC(kernel='linear')\n",
        "\n",
        "# Train the classifier\n",
        "classifier.fit(X_train, y_train)"
      ],
      "metadata": {
        "colab": {
          "base_uri": "https://localhost:8080/",
          "height": 75
        },
        "id": "Wz52TcjGhDk3",
        "outputId": "b1905315-5d9e-4719-9c21-d288748f718d"
      },
      "execution_count": null,
      "outputs": [
        {
          "output_type": "execute_result",
          "data": {
            "text/plain": [
              "SVC(kernel='linear')"
            ],
            "text/html": [
              "<style>#sk-container-id-14 {color: black;}#sk-container-id-14 pre{padding: 0;}#sk-container-id-14 div.sk-toggleable {background-color: white;}#sk-container-id-14 label.sk-toggleable__label {cursor: pointer;display: block;width: 100%;margin-bottom: 0;padding: 0.3em;box-sizing: border-box;text-align: center;}#sk-container-id-14 label.sk-toggleable__label-arrow:before {content: \"▸\";float: left;margin-right: 0.25em;color: #696969;}#sk-container-id-14 label.sk-toggleable__label-arrow:hover:before {color: black;}#sk-container-id-14 div.sk-estimator:hover label.sk-toggleable__label-arrow:before {color: black;}#sk-container-id-14 div.sk-toggleable__content {max-height: 0;max-width: 0;overflow: hidden;text-align: left;background-color: #f0f8ff;}#sk-container-id-14 div.sk-toggleable__content pre {margin: 0.2em;color: black;border-radius: 0.25em;background-color: #f0f8ff;}#sk-container-id-14 input.sk-toggleable__control:checked~div.sk-toggleable__content {max-height: 200px;max-width: 100%;overflow: auto;}#sk-container-id-14 input.sk-toggleable__control:checked~label.sk-toggleable__label-arrow:before {content: \"▾\";}#sk-container-id-14 div.sk-estimator input.sk-toggleable__control:checked~label.sk-toggleable__label {background-color: #d4ebff;}#sk-container-id-14 div.sk-label input.sk-toggleable__control:checked~label.sk-toggleable__label {background-color: #d4ebff;}#sk-container-id-14 input.sk-hidden--visually {border: 0;clip: rect(1px 1px 1px 1px);clip: rect(1px, 1px, 1px, 1px);height: 1px;margin: -1px;overflow: hidden;padding: 0;position: absolute;width: 1px;}#sk-container-id-14 div.sk-estimator {font-family: monospace;background-color: #f0f8ff;border: 1px dotted black;border-radius: 0.25em;box-sizing: border-box;margin-bottom: 0.5em;}#sk-container-id-14 div.sk-estimator:hover {background-color: #d4ebff;}#sk-container-id-14 div.sk-parallel-item::after {content: \"\";width: 100%;border-bottom: 1px solid gray;flex-grow: 1;}#sk-container-id-14 div.sk-label:hover label.sk-toggleable__label {background-color: #d4ebff;}#sk-container-id-14 div.sk-serial::before {content: \"\";position: absolute;border-left: 1px solid gray;box-sizing: border-box;top: 0;bottom: 0;left: 50%;z-index: 0;}#sk-container-id-14 div.sk-serial {display: flex;flex-direction: column;align-items: center;background-color: white;padding-right: 0.2em;padding-left: 0.2em;position: relative;}#sk-container-id-14 div.sk-item {position: relative;z-index: 1;}#sk-container-id-14 div.sk-parallel {display: flex;align-items: stretch;justify-content: center;background-color: white;position: relative;}#sk-container-id-14 div.sk-item::before, #sk-container-id-14 div.sk-parallel-item::before {content: \"\";position: absolute;border-left: 1px solid gray;box-sizing: border-box;top: 0;bottom: 0;left: 50%;z-index: -1;}#sk-container-id-14 div.sk-parallel-item {display: flex;flex-direction: column;z-index: 1;position: relative;background-color: white;}#sk-container-id-14 div.sk-parallel-item:first-child::after {align-self: flex-end;width: 50%;}#sk-container-id-14 div.sk-parallel-item:last-child::after {align-self: flex-start;width: 50%;}#sk-container-id-14 div.sk-parallel-item:only-child::after {width: 0;}#sk-container-id-14 div.sk-dashed-wrapped {border: 1px dashed gray;margin: 0 0.4em 0.5em 0.4em;box-sizing: border-box;padding-bottom: 0.4em;background-color: white;}#sk-container-id-14 div.sk-label label {font-family: monospace;font-weight: bold;display: inline-block;line-height: 1.2em;}#sk-container-id-14 div.sk-label-container {text-align: center;}#sk-container-id-14 div.sk-container {/* jupyter's `normalize.less` sets `[hidden] { display: none; }` but bootstrap.min.css set `[hidden] { display: none !important; }` so we also need the `!important` here to be able to override the default hidden behavior on the sphinx rendered scikit-learn.org. See: https://github.com/scikit-learn/scikit-learn/issues/21755 */display: inline-block !important;position: relative;}#sk-container-id-14 div.sk-text-repr-fallback {display: none;}</style><div id=\"sk-container-id-14\" class=\"sk-top-container\"><div class=\"sk-text-repr-fallback\"><pre>SVC(kernel=&#x27;linear&#x27;)</pre><b>In a Jupyter environment, please rerun this cell to show the HTML representation or trust the notebook. <br />On GitHub, the HTML representation is unable to render, please try loading this page with nbviewer.org.</b></div><div class=\"sk-container\" hidden><div class=\"sk-item\"><div class=\"sk-estimator sk-toggleable\"><input class=\"sk-toggleable__control sk-hidden--visually\" id=\"sk-estimator-id-14\" type=\"checkbox\" checked><label for=\"sk-estimator-id-14\" class=\"sk-toggleable__label sk-toggleable__label-arrow\">SVC</label><div class=\"sk-toggleable__content\"><pre>SVC(kernel=&#x27;linear&#x27;)</pre></div></div></div></div></div>"
            ]
          },
          "metadata": {},
          "execution_count": 51
        }
      ]
    },
    {
      "cell_type": "markdown",
      "source": [
        "## Step 6: Running the Model"
      ],
      "metadata": {
        "id": "Ukj3Mryo7N8p"
      }
    },
    {
      "cell_type": "code",
      "source": [
        "# Import necessary library for evaluating the model\n",
        "from sklearn.metrics import classification_report\n",
        "\n",
        "# Predict the intent on the test set\n",
        "y_pred = classifier.predict(X_test)\n",
        "\n",
        "# Print the classification report to evaluate model performance\n",
        "print(\"Classification Report:\")\n",
        "print(classification_report(y_test, y_pred))\n"
      ],
      "metadata": {
        "colab": {
          "base_uri": "https://localhost:8080/"
        },
        "id": "-n83reCYitkK",
        "outputId": "3891ccb7-0f20-4c10-9f78-c3f7b405d097"
      },
      "execution_count": null,
      "outputs": [
        {
          "output_type": "stream",
          "name": "stdout",
          "text": [
            "Classification Report:\n",
            "                     precision    recall  f1-score   support\n",
            "\n",
            " Account_Management       1.00      1.00      1.00         1\n",
            "   Customer_Service       0.50      1.00      0.67         1\n",
            "    Product_Inquiry       1.00      1.00      1.00         1\n",
            "Subscription_Update       0.00      0.00      0.00         1\n",
            "  Technical_Support       1.00      1.00      1.00         6\n",
            "\n",
            "           accuracy                           0.90        10\n",
            "          macro avg       0.70      0.80      0.73        10\n",
            "       weighted avg       0.85      0.90      0.87        10\n",
            "\n"
          ]
        },
        {
          "output_type": "stream",
          "name": "stderr",
          "text": [
            "/usr/local/lib/python3.10/dist-packages/sklearn/metrics/_classification.py:1471: UndefinedMetricWarning: Precision and F-score are ill-defined and being set to 0.0 in labels with no predicted samples. Use `zero_division` parameter to control this behavior.\n",
            "  _warn_prf(average, modifier, msg_start, len(result))\n",
            "/usr/local/lib/python3.10/dist-packages/sklearn/metrics/_classification.py:1471: UndefinedMetricWarning: Precision and F-score are ill-defined and being set to 0.0 in labels with no predicted samples. Use `zero_division` parameter to control this behavior.\n",
            "  _warn_prf(average, modifier, msg_start, len(result))\n",
            "/usr/local/lib/python3.10/dist-packages/sklearn/metrics/_classification.py:1471: UndefinedMetricWarning: Precision and F-score are ill-defined and being set to 0.0 in labels with no predicted samples. Use `zero_division` parameter to control this behavior.\n",
            "  _warn_prf(average, modifier, msg_start, len(result))\n"
          ]
        }
      ]
    },
    {
      "cell_type": "markdown",
      "source": [
        "## Step 7: Evaluate the Parameters\n",
        "The model is not flushed out, it was largely because of the size and quality of the training dataset. However, let's see if we can get better results by \"fine-tuning parameters\" of the model with cross-validation"
      ],
      "metadata": {
        "id": "SEQzKV_47ZT3"
      }
    },
    {
      "cell_type": "code",
      "source": [
        "import numpy as np\n",
        "from sklearn.model_selection import GridSearchCV\n",
        "\n",
        "param_grid = {\n",
        "    'C': [0.1, 0.5, 1, 10, 100],\n",
        "    'kernel': ['linear', 'rbf'],\n",
        "    'gamma': ['scale', 1, 0.1, 0.01, 0.001, 0.0001]\n",
        "}\n",
        "\n",
        "optimal_params = GridSearchCV(classifier, param_grid, cv=5, scoring = 'accuracy')\n",
        "optimal_params.fit(X_train, y_train)\n",
        "\n",
        "print(optimal_params.best_params_)"
      ],
      "metadata": {
        "colab": {
          "base_uri": "https://localhost:8080/"
        },
        "id": "2CMmsINopx_-",
        "outputId": "1dea2544-0a29-4ce3-8cde-af38472cdebd"
      },
      "execution_count": null,
      "outputs": [
        {
          "output_type": "stream",
          "name": "stderr",
          "text": [
            "/usr/local/lib/python3.10/dist-packages/sklearn/model_selection/_split.py:737: UserWarning: The least populated class in y has only 1 members, which is less than n_splits=5.\n",
            "  warnings.warn(\n"
          ]
        },
        {
          "output_type": "stream",
          "name": "stdout",
          "text": [
            "{'C': 10, 'gamma': 'scale', 'kernel': 'rbf'}\n"
          ]
        }
      ]
    },
    {
      "cell_type": "code",
      "source": [
        "# Initialize the SVM classifier\n",
        "classifier = SVC(kernel='rbf',  C = 10, random_state= 1)\n",
        "\n",
        "# Train the classifier\n",
        "classifier.fit(X_train, y_train)"
      ],
      "metadata": {
        "colab": {
          "base_uri": "https://localhost:8080/",
          "height": 75
        },
        "id": "cRmaUKEv32HH",
        "outputId": "8fb16937-8afe-4de9-c931-1e387502012e"
      },
      "execution_count": null,
      "outputs": [
        {
          "output_type": "execute_result",
          "data": {
            "text/plain": [
              "SVC(C=10, random_state=1)"
            ],
            "text/html": [
              "<style>#sk-container-id-15 {color: black;}#sk-container-id-15 pre{padding: 0;}#sk-container-id-15 div.sk-toggleable {background-color: white;}#sk-container-id-15 label.sk-toggleable__label {cursor: pointer;display: block;width: 100%;margin-bottom: 0;padding: 0.3em;box-sizing: border-box;text-align: center;}#sk-container-id-15 label.sk-toggleable__label-arrow:before {content: \"▸\";float: left;margin-right: 0.25em;color: #696969;}#sk-container-id-15 label.sk-toggleable__label-arrow:hover:before {color: black;}#sk-container-id-15 div.sk-estimator:hover label.sk-toggleable__label-arrow:before {color: black;}#sk-container-id-15 div.sk-toggleable__content {max-height: 0;max-width: 0;overflow: hidden;text-align: left;background-color: #f0f8ff;}#sk-container-id-15 div.sk-toggleable__content pre {margin: 0.2em;color: black;border-radius: 0.25em;background-color: #f0f8ff;}#sk-container-id-15 input.sk-toggleable__control:checked~div.sk-toggleable__content {max-height: 200px;max-width: 100%;overflow: auto;}#sk-container-id-15 input.sk-toggleable__control:checked~label.sk-toggleable__label-arrow:before {content: \"▾\";}#sk-container-id-15 div.sk-estimator input.sk-toggleable__control:checked~label.sk-toggleable__label {background-color: #d4ebff;}#sk-container-id-15 div.sk-label input.sk-toggleable__control:checked~label.sk-toggleable__label {background-color: #d4ebff;}#sk-container-id-15 input.sk-hidden--visually {border: 0;clip: rect(1px 1px 1px 1px);clip: rect(1px, 1px, 1px, 1px);height: 1px;margin: -1px;overflow: hidden;padding: 0;position: absolute;width: 1px;}#sk-container-id-15 div.sk-estimator {font-family: monospace;background-color: #f0f8ff;border: 1px dotted black;border-radius: 0.25em;box-sizing: border-box;margin-bottom: 0.5em;}#sk-container-id-15 div.sk-estimator:hover {background-color: #d4ebff;}#sk-container-id-15 div.sk-parallel-item::after {content: \"\";width: 100%;border-bottom: 1px solid gray;flex-grow: 1;}#sk-container-id-15 div.sk-label:hover label.sk-toggleable__label {background-color: #d4ebff;}#sk-container-id-15 div.sk-serial::before {content: \"\";position: absolute;border-left: 1px solid gray;box-sizing: border-box;top: 0;bottom: 0;left: 50%;z-index: 0;}#sk-container-id-15 div.sk-serial {display: flex;flex-direction: column;align-items: center;background-color: white;padding-right: 0.2em;padding-left: 0.2em;position: relative;}#sk-container-id-15 div.sk-item {position: relative;z-index: 1;}#sk-container-id-15 div.sk-parallel {display: flex;align-items: stretch;justify-content: center;background-color: white;position: relative;}#sk-container-id-15 div.sk-item::before, #sk-container-id-15 div.sk-parallel-item::before {content: \"\";position: absolute;border-left: 1px solid gray;box-sizing: border-box;top: 0;bottom: 0;left: 50%;z-index: -1;}#sk-container-id-15 div.sk-parallel-item {display: flex;flex-direction: column;z-index: 1;position: relative;background-color: white;}#sk-container-id-15 div.sk-parallel-item:first-child::after {align-self: flex-end;width: 50%;}#sk-container-id-15 div.sk-parallel-item:last-child::after {align-self: flex-start;width: 50%;}#sk-container-id-15 div.sk-parallel-item:only-child::after {width: 0;}#sk-container-id-15 div.sk-dashed-wrapped {border: 1px dashed gray;margin: 0 0.4em 0.5em 0.4em;box-sizing: border-box;padding-bottom: 0.4em;background-color: white;}#sk-container-id-15 div.sk-label label {font-family: monospace;font-weight: bold;display: inline-block;line-height: 1.2em;}#sk-container-id-15 div.sk-label-container {text-align: center;}#sk-container-id-15 div.sk-container {/* jupyter's `normalize.less` sets `[hidden] { display: none; }` but bootstrap.min.css set `[hidden] { display: none !important; }` so we also need the `!important` here to be able to override the default hidden behavior on the sphinx rendered scikit-learn.org. See: https://github.com/scikit-learn/scikit-learn/issues/21755 */display: inline-block !important;position: relative;}#sk-container-id-15 div.sk-text-repr-fallback {display: none;}</style><div id=\"sk-container-id-15\" class=\"sk-top-container\"><div class=\"sk-text-repr-fallback\"><pre>SVC(C=10, random_state=1)</pre><b>In a Jupyter environment, please rerun this cell to show the HTML representation or trust the notebook. <br />On GitHub, the HTML representation is unable to render, please try loading this page with nbviewer.org.</b></div><div class=\"sk-container\" hidden><div class=\"sk-item\"><div class=\"sk-estimator sk-toggleable\"><input class=\"sk-toggleable__control sk-hidden--visually\" id=\"sk-estimator-id-15\" type=\"checkbox\" checked><label for=\"sk-estimator-id-15\" class=\"sk-toggleable__label sk-toggleable__label-arrow\">SVC</label><div class=\"sk-toggleable__content\"><pre>SVC(C=10, random_state=1)</pre></div></div></div></div></div>"
            ]
          },
          "metadata": {},
          "execution_count": 54
        }
      ]
    },
    {
      "cell_type": "code",
      "source": [
        "# Predict the intent on the test set\n",
        "y_pred = classifier.predict(X_test)\n",
        "\n",
        "# Print the classification report to evaluate model performance\n",
        "print(\"Classification Report:\")\n",
        "print(classification_report(y_test, y_pred))\n"
      ],
      "metadata": {
        "colab": {
          "base_uri": "https://localhost:8080/"
        },
        "id": "bijEQSoB4iKH",
        "outputId": "2ca7f1de-f1ac-4e58-80cb-949260f81352"
      },
      "execution_count": null,
      "outputs": [
        {
          "output_type": "stream",
          "name": "stdout",
          "text": [
            "Classification Report:\n",
            "                     precision    recall  f1-score   support\n",
            "\n",
            " Account_Management       1.00      1.00      1.00         1\n",
            "   Customer_Service       0.50      1.00      0.67         1\n",
            "    Product_Inquiry       1.00      1.00      1.00         1\n",
            "Subscription_Update       0.00      0.00      0.00         1\n",
            "  Technical_Support       1.00      1.00      1.00         6\n",
            "\n",
            "           accuracy                           0.90        10\n",
            "          macro avg       0.70      0.80      0.73        10\n",
            "       weighted avg       0.85      0.90      0.87        10\n",
            "\n"
          ]
        },
        {
          "output_type": "stream",
          "name": "stderr",
          "text": [
            "/usr/local/lib/python3.10/dist-packages/sklearn/metrics/_classification.py:1471: UndefinedMetricWarning: Precision and F-score are ill-defined and being set to 0.0 in labels with no predicted samples. Use `zero_division` parameter to control this behavior.\n",
            "  _warn_prf(average, modifier, msg_start, len(result))\n",
            "/usr/local/lib/python3.10/dist-packages/sklearn/metrics/_classification.py:1471: UndefinedMetricWarning: Precision and F-score are ill-defined and being set to 0.0 in labels with no predicted samples. Use `zero_division` parameter to control this behavior.\n",
            "  _warn_prf(average, modifier, msg_start, len(result))\n",
            "/usr/local/lib/python3.10/dist-packages/sklearn/metrics/_classification.py:1471: UndefinedMetricWarning: Precision and F-score are ill-defined and being set to 0.0 in labels with no predicted samples. Use `zero_division` parameter to control this behavior.\n",
            "  _warn_prf(average, modifier, msg_start, len(result))\n"
          ]
        }
      ]
    },
    {
      "cell_type": "markdown",
      "source": [
        "## Step 8: Integration of Named Entity Recognition (NER)\n"
      ],
      "metadata": {
        "id": "IJi25Mgl2RwD"
      }
    },
    {
      "cell_type": "code",
      "source": [
        "import spacy\n",
        "from spacy.training import Example\n",
        "from spacy.util import minibatch, compounding\n",
        "from spacy.tokens import DocBin\n",
        "import pandas as pd\n",
        "\n",
        "# Load the small English model from spaCy\n",
        "nlp = spacy.load(\"en_core_web_sm\")\n",
        "\n",
        "# Create a DataFrame from the dataset\n",
        "df = pd.DataFrame(data)\n",
        "\n",
        "# Convert the dataset to spaCy's training format\n",
        "db = DocBin()\n",
        "for _, row in df.iterrows():\n",
        "    doc = nlp.make_doc(row[\"queries\"])\n",
        "    ents = []\n",
        "    for label, value in row[\"entities\"].items():\n",
        "        start = row[\"queries\"].find(value)\n",
        "        end = start + len(value)\n",
        "        span = doc.char_span(start, end, label=label)\n",
        "        if span:\n",
        "            ents.append(span)\n",
        "    doc.ents = ents\n",
        "    db.add(doc)\n",
        "\n",
        "# Save the training data\n",
        "db.to_disk(\"ner_training_data.spacy\")\n",
        "\n",
        "# Load the training data\n",
        "db = DocBin().from_disk(\"ner_training_data.spacy\")\n",
        "docs = list(db.get_docs(nlp.vocab))\n",
        "\n",
        "# Prepare training examples\n",
        "train_examples = [Example.from_dict(doc, {\"entities\": [(ent.start_char, ent.end_char, ent.label_) for ent in doc.ents]}) for doc in docs]\n",
        "\n",
        "# Train the NER model\n",
        "ner = nlp.get_pipe(\"ner\")\n",
        "optimizer = nlp.resume_training()\n",
        "\n",
        "for iteration in range(20):\n",
        "    losses = {}\n",
        "    batches = minibatch(train_examples, size=compounding(4.0, 32.0, 1.001))\n",
        "    for batch in batches:\n",
        "        nlp.update(batch, sgd=optimizer, drop=0.5, losses=losses)\n",
        "    print(f\"Iteration {iteration + 1}, Losses: {losses}\")\n",
        "\n",
        "# Save the trained NER model\n",
        "nlp.to_disk(\"trained_ner_model\")\n"
      ],
      "metadata": {
        "colab": {
          "base_uri": "https://localhost:8080/"
        },
        "id": "c0eTRt4q2hZB",
        "outputId": "c627306c-5f8d-4937-b634-91d26b63b8ba"
      },
      "execution_count": null,
      "outputs": [
        {
          "output_type": "stream",
          "name": "stdout",
          "text": [
            "Iteration 1, Losses: {'tok2vec': 0.0, 'tagger': 0.0, 'parser': 0.0, 'ner': 240.68316583269794}\n",
            "Iteration 2, Losses: {'tok2vec': 0.0, 'tagger': 0.0, 'parser': 0.0, 'ner': 217.66729600650433}\n",
            "Iteration 3, Losses: {'tok2vec': 0.0, 'tagger': 0.0, 'parser': 0.0, 'ner': 173.60777008064906}\n",
            "Iteration 4, Losses: {'tok2vec': 0.0, 'tagger': 0.0, 'parser': 0.0, 'ner': 156.25004524504766}\n",
            "Iteration 5, Losses: {'tok2vec': 0.0, 'tagger': 0.0, 'parser': 0.0, 'ner': 134.31182173534762}\n",
            "Iteration 6, Losses: {'tok2vec': 0.0, 'tagger': 0.0, 'parser': 0.0, 'ner': 122.42891162754859}\n",
            "Iteration 7, Losses: {'tok2vec': 0.0, 'tagger': 0.0, 'parser': 0.0, 'ner': 104.89696787701044}\n",
            "Iteration 8, Losses: {'tok2vec': 0.0, 'tagger': 0.0, 'parser': 0.0, 'ner': 100.64956386338163}\n",
            "Iteration 9, Losses: {'tok2vec': 0.0, 'tagger': 0.0, 'parser': 0.0, 'ner': 89.29157836020488}\n",
            "Iteration 10, Losses: {'tok2vec': 0.0, 'tagger': 0.0, 'parser': 0.0, 'ner': 81.55381477876898}\n",
            "Iteration 11, Losses: {'tok2vec': 0.0, 'tagger': 0.0, 'parser': 0.0, 'ner': 74.70001534408988}\n",
            "Iteration 12, Losses: {'tok2vec': 0.0, 'tagger': 0.0, 'parser': 0.0, 'ner': 58.559063794046}\n",
            "Iteration 13, Losses: {'tok2vec': 0.0, 'tagger': 0.0, 'parser': 0.0, 'ner': 58.963358620113326}\n",
            "Iteration 14, Losses: {'tok2vec': 0.0, 'tagger': 0.0, 'parser': 0.0, 'ner': 48.057342654922245}\n",
            "Iteration 15, Losses: {'tok2vec': 0.0, 'tagger': 0.0, 'parser': 0.0, 'ner': 56.49404863342897}\n",
            "Iteration 16, Losses: {'tok2vec': 0.0, 'tagger': 0.0, 'parser': 0.0, 'ner': 39.77919770671419}\n",
            "Iteration 17, Losses: {'tok2vec': 0.0, 'tagger': 0.0, 'parser': 0.0, 'ner': 32.4795115823259}\n",
            "Iteration 18, Losses: {'tok2vec': 0.0, 'tagger': 0.0, 'parser': 0.0, 'ner': 41.690903074831326}\n",
            "Iteration 19, Losses: {'tok2vec': 0.0, 'tagger': 0.0, 'parser': 0.0, 'ner': 31.302307160578888}\n",
            "Iteration 20, Losses: {'tok2vec': 0.0, 'tagger': 0.0, 'parser': 0.0, 'ner': 26.266077597079132}\n"
          ]
        }
      ]
    },
    {
      "cell_type": "code",
      "source": [
        "text = \"How do I initiate a rebooting service from the local computer\"\n",
        "doc = nlp(text)\n",
        "print(\"Entities:\", [(ent.text, ent.label_) for ent in doc.ents])"
      ],
      "metadata": {
        "colab": {
          "base_uri": "https://localhost:8080/"
        },
        "id": "wKh8CjglaZyY",
        "outputId": "7d0a07d1-1b96-4d27-ad57-8e542f0d1b82"
      },
      "execution_count": null,
      "outputs": [
        {
          "output_type": "stream",
          "name": "stdout",
          "text": [
            "Entities: [('initiate', 'Action'), ('rebooting service', 'Component'), ('local computer', 'Component')]\n"
          ]
        }
      ]
    },
    {
      "cell_type": "markdown",
      "source": [
        "## Mapping the responses"
      ],
      "metadata": {
        "id": "EQ3OGc6qWwvg"
      }
    },
    {
      "cell_type": "code",
      "source": [
        "# Define response templates based on intent\n",
        "response_templates = {\n",
        "    \"Account_Management\": {\n",
        "        (\"reset\", \"password\"): \"To reset your password, please visit the password management section of your account.\",\n",
        "        (\"update\", \"email\"): \"To update your email address, go to your account settings under the contact information section.\",\n",
        "        (\"delete\", \"account\"): \"If you want to delete your account, please follow the steps in the account deletion guide.\",\n",
        "        \"default\": \"To manage your account, visit the account settings section.\"\n",
        "    },\n",
        "    \"Technical_Support\": {\n",
        "        (\"software\", \"crashing\"): \"If your software is crashing, try reinstalling it from the official website or contact support.\",\n",
        "        (\"internet connection\", \"slow\"): \"For slow internet connection issues, please restart your router or check our connectivity guide.\",\n",
        "        (\"update\", \"firmware\"): \"To update your firmware, download the latest version from our website and follow the installation instructions.\",\n",
        "        \"default\": \"For technical support, visit our support page or contact us.\"\n",
        "    },\n",
        "    \"Subscription_Update\": {\n",
        "        (\"upgrade\", \"subscription plan\"): \"To upgrade your subscription plan, visit the subscription section in your account and select the new plan.\",\n",
        "        (\"cancel\", \"subscription\"): \"To cancel your subscription, please go to the subscription management section and follow the cancellation process.\",\n",
        "        \"default\": \"For subscription updates, visit the subscription management section in your account.\"\n",
        "    },\n",
        "    \"Customer_Service\": {\n",
        "        \"default\": \"Our customer service team can assist you. Please visit the customer service section or contact us directly.\"\n",
        "    },\n",
        "    \"Product_Inquiry\": {\n",
        "        \"default\": \"For product inquiries, visit the product details section on our website.\"\n",
        "    }\n",
        "}\n",
        "\n",
        "\n",
        "# Function to generate the response based on intent and entities\n",
        "def generate_response(intent, entities):\n",
        "    entity_tuple = (entities.get(\"Action\"), entities.get(\"Component\"))\n",
        "\n",
        "    # Get the specific response template if it exists, otherwise use default\n",
        "    response_template = response_templates.get(intent, {}).get(entity_tuple, response_templates.get(intent, {}).get(\"default\", \"Sorry, I don't understand your request.\"))\n",
        "\n",
        "    response = response_template.format(\n",
        "        action=entities.get(\"Action\", \"perform this action\"),\n",
        "        component=entities.get(\"Component\", \"this component\"),\n",
        "        issue=entities.get(\"Issue\", \"this issue\")\n",
        "    )\n",
        "\n",
        "    return response\n",
        "\n",
        "# Example function to process a new query\n",
        "def process_query(query):\n",
        "    # Preprocess the new query\n",
        "    query_vectorized = vectorizer.transform([query])\n",
        "\n",
        "    # Predict the intent using the SVM model\n",
        "    predicted_intent = classifier.predict(query_vectorized)[0]\n",
        "\n",
        "    # Extract entities using the NER model\n",
        "    doc = nlp(query)\n",
        "    entities = {ent.label_: ent.text for ent in doc.ents}\n",
        "\n",
        "    # Generate the response\n",
        "    response = generate_response(predicted_intent, entities)\n",
        "\n",
        "    return predicted_intent, entities, response\n",
        "\n",
        "# Example usage\n",
        "new_query = \"What is the return policy on accessories?\"\n",
        "intent, entities, response = process_query(new_query)\n",
        "\n",
        "print(\"Predicted Intent:\", intent)\n",
        "print(\"Extracted Entities:\", entities)\n",
        "print(\"Generated Response:\", response)"
      ],
      "metadata": {
        "colab": {
          "base_uri": "https://localhost:8080/"
        },
        "id": "YKFxv-b0XHD_",
        "outputId": "22f6605d-59db-410a-c520-76b78e0d4f4d"
      },
      "execution_count": null,
      "outputs": [
        {
          "output_type": "stream",
          "name": "stdout",
          "text": [
            "Predicted Intent: Customer_Service\n",
            "Extracted Entities: {'Component': 'return policy', 'Issue': 'accessories'}\n",
            "Generated Response: Our customer service team can assist you. Please visit the customer service section or contact us directly.\n"
          ]
        }
      ]
    }
  ]
}